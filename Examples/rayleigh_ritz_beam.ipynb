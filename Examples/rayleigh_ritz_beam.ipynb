{
 "metadata": {
  "language_info": {
   "codemirror_mode": {
    "name": "ipython",
    "version": 3
   },
   "file_extension": ".py",
   "mimetype": "text/x-python",
   "name": "python",
   "nbconvert_exporter": "python",
   "pygments_lexer": "ipython3",
   "version": "3.7.7"
  },
  "orig_nbformat": 2,
  "kernelspec": {
   "name": "python377jvsc74a57bd0b82620ad2a452c4c896d1e56da7510b7000ae9557b85812401bb2a5890485f01",
   "display_name": "Python 3.7.7 64-bit ('venv')"
  },
  "metadata": {
   "interpreter": {
    "hash": "b82620ad2a452c4c896d1e56da7510b7000ae9557b85812401bb2a5890485f01"
   }
  }
 },
 "nbformat": 4,
 "nbformat_minor": 2,
 "cells": [
  {
   "cell_type": "code",
   "execution_count": 1,
   "metadata": {},
   "outputs": [],
   "source": [
    "import moyra as ma\n",
    "import moyra.elements as ele\n",
    "import moyra.forces as ef\n",
    "import sympy as sym\n",
    "import sympy.physics.mechanics as me\n",
    "import warnings\n",
    "import matplotlib.cbook\n",
    "\n",
    "warnings.filterwarnings(\"ignore\",category=matplotlib.cbook.mplDeprecation)\n",
    "me.mechanics_printing()"
   ]
  },
  {
   "source": [
    "## Rayleigh Ritz Beam Model\n",
    "\n",
    "In this example we will generate the EoMs for a cantilever beam fixed at the root, using assumed shapes.\n",
    "\n",
    "The shape functions used will be polynomials of order n (for bending) and m (for torsion)"
   ],
   "cell_type": "markdown",
   "metadata": {}
  },
  {
   "cell_type": "code",
   "execution_count": 21,
   "metadata": {},
   "outputs": [],
   "source": [
    "b_modes = 3\n",
    "t_modes = 2\n",
    "qs = b_modes + t_modes \n",
    "\n",
    "p = ma.DynamicModelParameters(qs)\n",
    "\n",
    "## Create some global parameters\n",
    "p.c = ma.ModelSymbol(value = 1.8,string = 'c') # chord of wing\n",
    "p.s = ma.ModelSymbol(value = 12,string = 's') # total semi-span of wing\n",
    "p.rho = ma.ModelSymbol(value = 20,string = 'rho') # mass per unit area (kg/m^2)\n",
    "\n",
    "# Inner Wing stiffness Properties\n",
    "p.EI = ma.ModelSymbol(value = 1e7,string = 'EI') # Bending stiffness for the wing\n",
    "p.GJ = ma.ModelSymbol(value = 1e6,string = 'GJ') # Torsional Stiffness for the wing\n",
    "\n",
    "# Location of flexural axes\n",
    "p.e = ma.ModelSymbol(value = 0,string = 'e')\n",
    "p.x_f = sym.Rational(1,4)*p.c + p.e*p.c\n",
    "\n",
    "# Symbols to translate along inner wing\n",
    "p.y_0 = sym.Symbol('y_0') # inner wing y chord\n",
    "p.x_0 = sym.Symbol('x_0') # inner wing x chord\n",
    "\n",
    "# Factor to change the size of joint values\n",
    "p.eta = ma.ModelMatrix(value = [1]*qs,length=qs,string='eta') # a scale factor for each shape function (to aid numerical stability)\n",
    "p.g = ma.ModelSymbol(value = 9.81,string='g')"
   ]
  },
  {
   "cell_type": "code",
   "execution_count": 22,
   "metadata": {},
   "outputs": [],
   "source": [
    "#get shape functions for main wing\n",
    "z_0,tau_0 = ele.FlexiElement.ShapeFunctions_BN_TM(b_modes,t_modes,p.q,p.y_0,p.x_0,p.x_f,0,factor=1)\n",
    "#z_0,tau_0 = ele.FlexiElement.ShapeFunctions_BN_TM(b_modes,t_modes,p.q,p.y_0,p.x_0,p.x_f,0,factor=p.eta)\n",
    "wing_bend = sym.atan(z_0.diff(p.y_0).subs({p.x_0:p.x_f,p.y_0:p.s}))\n",
    "\n",
    "#define wing refernce frames\n",
    "wing_root_frame = ma.HomogenousTransform()\n",
    "wing_frame = wing_root_frame.Translate(p.x_0,p.y_0,z_0)\n",
    "wing_flexural_frame = wing_frame.msubs({p.x_0:p.x_f})\n",
    "\n",
    "#Create Element Mass Matriceis\n",
    "M_wing = ele.MassMatrix(p.rho)\n",
    "\n",
    "#Create wing element\n",
    "wing_ele = ele.FlexiElement(wing_root_frame,M_wing,p.x_0,p.y_0,z_0,p.c,p.s,p.x_f,p.EI,p.GJ,gravityPot=True) \n",
    "\n",
    "# Create the Symbolic Model\n",
    "sm = ma.SymbolicModel.FromElementsAndForces(p,[wing_ele])"
   ]
  },
  {
   "cell_type": "code",
   "execution_count": 23,
   "metadata": {},
   "outputs": [
    {
     "output_type": "execute_result",
     "data": {
      "text/plain": [
       "⎡           5                    6                    7                 2     \n",
       "⎢      c⋅ρ⋅s                c⋅ρ⋅s                c⋅ρ⋅s                 c ⋅e⋅ρ⋅\n",
       "⎢      ──────               ──────               ──────                ───────\n",
       "⎢        5                    6                    7                       4  \n",
       "⎢                                                                             \n",
       "⎢           6                    7                    8                 2     \n",
       "⎢      c⋅ρ⋅s                c⋅ρ⋅s                c⋅ρ⋅s                 c ⋅e⋅ρ⋅\n",
       "⎢      ──────               ──────               ──────                ───────\n",
       "⎢        6                    7                    8                       5  \n",
       "⎢                                                                             \n",
       "⎢           7                    8                    9                 2     \n",
       "⎢      c⋅ρ⋅s                c⋅ρ⋅s                c⋅ρ⋅s                 c ⋅e⋅ρ⋅\n",
       "⎢      ──────               ──────               ──────                ───────\n",
       "⎢        7                    8                    9                       6  \n",
       "⎢                                                                             \n",
       "⎢ 2      4    2    4   2      5    2    5   2      6    2    6   3  2    3    \n",
       "⎢c ⋅e⋅ρ⋅s    c ⋅ρ⋅s   c ⋅e⋅ρ⋅s    c ⋅ρ⋅s   c ⋅e⋅ρ⋅s    c ⋅ρ⋅s   c ⋅e ⋅ρ⋅s    c\n",
       "⎢───────── - ───────  ───────── - ───────  ───────── - ───────  ────────── - ─\n",
       "⎢    4          16        5          20        6          24        3         \n",
       "⎢                                                                             \n",
       "⎢ 2      5    2    5   2      6    2    6   2      7    2    7   3  2    4    \n",
       "⎢c ⋅e⋅ρ⋅s    c ⋅ρ⋅s   c ⋅e⋅ρ⋅s    c ⋅ρ⋅s   c ⋅e⋅ρ⋅s    c ⋅ρ⋅s   c ⋅e ⋅ρ⋅s    c\n",
       "⎢───────── - ───────  ───────── - ───────  ───────── - ───────  ────────── - ─\n",
       "⎣    5          20        6          24        7          28        4         \n",
       "\n",
       " 4    2    4                  2      5    2    5        ⎤\n",
       "s    c ⋅ρ⋅s                  c ⋅e⋅ρ⋅s    c ⋅ρ⋅s         ⎥\n",
       "── - ───────                 ───────── - ───────        ⎥\n",
       "        16                       5          20          ⎥\n",
       "                                                        ⎥\n",
       " 5    2    5                  2      6    2    6        ⎥\n",
       "s    c ⋅ρ⋅s                  c ⋅e⋅ρ⋅s    c ⋅ρ⋅s         ⎥\n",
       "── - ───────                 ───────── - ───────        ⎥\n",
       "        20                       6          24          ⎥\n",
       "                                                        ⎥\n",
       " 6    2    6                  2      7    2    7        ⎥\n",
       "s    c ⋅ρ⋅s                  c ⋅e⋅ρ⋅s    c ⋅ρ⋅s         ⎥\n",
       "── - ───────                 ───────── - ───────        ⎥\n",
       "        24                       7          28          ⎥\n",
       "                                                        ⎥\n",
       "3      3      3    3   3  2    4    3      4      3    4⎥\n",
       " ⋅e⋅ρ⋅s    7⋅c ⋅ρ⋅s   c ⋅e ⋅ρ⋅s    c ⋅e⋅ρ⋅s    7⋅c ⋅ρ⋅s ⎥\n",
       "──────── + ─────────  ────────── - ───────── + ─────────⎥\n",
       "   6          144         4            8          192   ⎥\n",
       "                                                        ⎥\n",
       "3      4      3    4   3  2    5    3      5      3    5⎥\n",
       " ⋅e⋅ρ⋅s    7⋅c ⋅ρ⋅s   c ⋅e ⋅ρ⋅s    c ⋅e⋅ρ⋅s    7⋅c ⋅ρ⋅s ⎥\n",
       "──────── + ─────────  ────────── - ───────── + ─────────⎥\n",
       "   8          192         5            10         240   ⎦"
      ],
      "text/latex": "$\\displaystyle \\left[\\begin{matrix}\\frac{c \\rho s^{5}}{5} & \\frac{c \\rho s^{6}}{6} & \\frac{c \\rho s^{7}}{7} & \\frac{c^{2} e \\rho s^{4}}{4} - \\frac{c^{2} \\rho s^{4}}{16} & \\frac{c^{2} e \\rho s^{5}}{5} - \\frac{c^{2} \\rho s^{5}}{20}\\\\\\frac{c \\rho s^{6}}{6} & \\frac{c \\rho s^{7}}{7} & \\frac{c \\rho s^{8}}{8} & \\frac{c^{2} e \\rho s^{5}}{5} - \\frac{c^{2} \\rho s^{5}}{20} & \\frac{c^{2} e \\rho s^{6}}{6} - \\frac{c^{2} \\rho s^{6}}{24}\\\\\\frac{c \\rho s^{7}}{7} & \\frac{c \\rho s^{8}}{8} & \\frac{c \\rho s^{9}}{9} & \\frac{c^{2} e \\rho s^{6}}{6} - \\frac{c^{2} \\rho s^{6}}{24} & \\frac{c^{2} e \\rho s^{7}}{7} - \\frac{c^{2} \\rho s^{7}}{28}\\\\\\frac{c^{2} e \\rho s^{4}}{4} - \\frac{c^{2} \\rho s^{4}}{16} & \\frac{c^{2} e \\rho s^{5}}{5} - \\frac{c^{2} \\rho s^{5}}{20} & \\frac{c^{2} e \\rho s^{6}}{6} - \\frac{c^{2} \\rho s^{6}}{24} & \\frac{c^{3} e^{2} \\rho s^{3}}{3} - \\frac{c^{3} e \\rho s^{3}}{6} + \\frac{7 c^{3} \\rho s^{3}}{144} & \\frac{c^{3} e^{2} \\rho s^{4}}{4} - \\frac{c^{3} e \\rho s^{4}}{8} + \\frac{7 c^{3} \\rho s^{4}}{192}\\\\\\frac{c^{2} e \\rho s^{5}}{5} - \\frac{c^{2} \\rho s^{5}}{20} & \\frac{c^{2} e \\rho s^{6}}{6} - \\frac{c^{2} \\rho s^{6}}{24} & \\frac{c^{2} e \\rho s^{7}}{7} - \\frac{c^{2} \\rho s^{7}}{28} & \\frac{c^{3} e^{2} \\rho s^{4}}{4} - \\frac{c^{3} e \\rho s^{4}}{8} + \\frac{7 c^{3} \\rho s^{4}}{192} & \\frac{c^{3} e^{2} \\rho s^{5}}{5} - \\frac{c^{3} e \\rho s^{5}}{10} + \\frac{7 c^{3} \\rho s^{5}}{240}\\end{matrix}\\right]$"
     },
     "metadata": {},
     "execution_count": 23
    }
   ],
   "source": [
    "sm.M"
   ]
  },
  {
   "cell_type": "code",
   "execution_count": 24,
   "metadata": {},
   "outputs": [
    {
     "output_type": "execute_result",
     "data": {
      "text/plain": [
       "⎡                                               3  ⎤\n",
       "⎢        3            2                  c⋅g⋅ρ⋅s   ⎥\n",
       "⎢  8⋅EI⋅s ⋅q₂ + 6⋅EI⋅s ⋅q₁ + 4⋅EI⋅s⋅q₀ + ────────  ⎥\n",
       "⎢                                           3      ⎥\n",
       "⎢                                                  ⎥\n",
       "⎢                                                4 ⎥\n",
       "⎢       4             3            2      c⋅g⋅ρ⋅s  ⎥\n",
       "⎢18⋅EI⋅s ⋅q₂ + 12⋅EI⋅s ⋅q₁ + 6⋅EI⋅s ⋅q₀ + ──────── ⎥\n",
       "⎢                                            4     ⎥\n",
       "⎢                                                  ⎥\n",
       "⎢        5                                        5⎥\n",
       "⎢144⋅EI⋅s ⋅q₂          4            3      c⋅g⋅ρ⋅s ⎥\n",
       "⎢──────────── + 18⋅EI⋅s ⋅q₁ + 8⋅EI⋅s ⋅q₀ + ────────⎥\n",
       "⎢     5                                       5    ⎥\n",
       "⎢                                                  ⎥\n",
       "⎢                           ⎛ 2          2    ⎞    ⎥\n",
       "⎢       2                 2 ⎜c ⋅e⋅g⋅ρ   c ⋅g⋅ρ⎟    ⎥\n",
       "⎢   GJ⋅s ⋅q₄ + GJ⋅s⋅q₃ + s ⋅⎜──────── - ──────⎟    ⎥\n",
       "⎢                           ⎝   2         8   ⎠    ⎥\n",
       "⎢                                                  ⎥\n",
       "⎢        3                    ⎛ 2          2    ⎞  ⎥\n",
       "⎢  4⋅GJ⋅s ⋅q₄       2       3 ⎜c ⋅e⋅g⋅ρ   c ⋅g⋅ρ⎟  ⎥\n",
       "⎢  ────────── + GJ⋅s ⋅q₃ + s ⋅⎜──────── - ──────⎟  ⎥\n",
       "⎣      3                      ⎝   3         12  ⎠  ⎦"
      ],
      "text/latex": "$\\displaystyle \\left[\\begin{matrix}8 EI s^{3} q_{2} + 6 EI s^{2} q_{1} + 4 EI s q_{0} + \\frac{c g \\rho s^{3}}{3}\\\\18 EI s^{4} q_{2} + 12 EI s^{3} q_{1} + 6 EI s^{2} q_{0} + \\frac{c g \\rho s^{4}}{4}\\\\\\frac{144 EI s^{5} q_{2}}{5} + 18 EI s^{4} q_{1} + 8 EI s^{3} q_{0} + \\frac{c g \\rho s^{5}}{5}\\\\GJ s^{2} q_{4} + GJ s q_{3} + s^{2} \\left(\\frac{c^{2} e g \\rho}{2} - \\frac{c^{2} g \\rho}{8}\\right)\\\\\\frac{4 GJ s^{3} q_{4}}{3} + GJ s^{2} q_{3} + s^{3} \\left(\\frac{c^{2} e g \\rho}{3} - \\frac{c^{2} g \\rho}{12}\\right)\\end{matrix}\\right]$"
     },
     "metadata": {},
     "execution_count": 24
    }
   ],
   "source": [
    "sm.f"
   ]
  },
  {
   "cell_type": "code",
   "execution_count": 25,
   "metadata": {},
   "outputs": [],
   "source": [
    "sm.to_matlab_file(p,'')"
   ]
  },
  {
   "cell_type": "code",
   "execution_count": null,
   "metadata": {},
   "outputs": [],
   "source": []
  }
 ]
}